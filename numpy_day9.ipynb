{
 "cells": [
  {
   "cell_type": "code",
   "execution_count": 1,
   "metadata": {},
   "outputs": [],
   "source": [
    "import numpy as np"
   ]
  },
  {
   "cell_type": "code",
   "execution_count": 2,
   "metadata": {
    "scrolled": true
   },
   "outputs": [
    {
     "name": "stdout",
     "output_type": "stream",
     "text": [
      "[0. 0. 0. 0. 0.]\n",
      "[[0. 0. 0.]\n",
      " [0. 0. 0.]]\n",
      "[[0 0]\n",
      " [0 0]\n",
      " [0 0]\n",
      " [0 0]\n",
      " [0 0]]\n",
      "['' '' '' '' '']\n",
      "[[[1 1 1 1]\n",
      "  [1 1 1 1]\n",
      "  [1 1 1 1]]\n",
      "\n",
      " [[1 1 1 1]\n",
      "  [1 1 1 1]\n",
      "  [1 1 1 1]]]\n",
      "[[1. 1. 1.]\n",
      " [1. 1. 1.]]\n",
      "[[0. 0. 0.]\n",
      " [0. 0. 0.]\n",
      " [0. 0. 0.]\n",
      " [0. 0. 0.]]\n",
      "[  0.  inf -inf  nan]\n"
     ]
    },
    {
     "name": "stderr",
     "output_type": "stream",
     "text": [
      "C:\\Users\\shhmu\\anaconda3\\lib\\site-packages\\ipykernel_launcher.py:11: RuntimeWarning: divide by zero encountered in true_divide\n",
      "  # This is added back by InteractiveShellApp.init_path()\n",
      "C:\\Users\\shhmu\\anaconda3\\lib\\site-packages\\ipykernel_launcher.py:11: RuntimeWarning: invalid value encountered in true_divide\n",
      "  # This is added back by InteractiveShellApp.init_path()\n"
     ]
    }
   ],
   "source": [
    "# 배열을 생성하면서 값을 초기화 하는 방법: np.zeros(),np.ones()\n",
    "a = np.zeros(5)\n",
    "print(a)\n",
    "b = np.zeros((2,3))\n",
    "print(b)\n",
    "print(np.zeros((5,2),dtype='i'))\n",
    "print(np.zeros(5, dtype='U4'))\n",
    "print(np.ones((2,3,4),dtype = 'i8'))\n",
    "print(np.ones_like(b,dtype='f'))\n",
    "print(np.empty((4,3))) # 배열 메모리안에 이미 값이 들어있음을 보여줌\n",
    "print(np.array([0,1,-1,0])/np.array([1,0,0,0]))"
   ]
  },
  {
   "cell_type": "code",
   "execution_count": 3,
   "metadata": {},
   "outputs": [
    {
     "data": {
      "text/plain": [
       "array([[ 4.,  3.],\n",
       "       [ 9.,  8.],\n",
       "       [14., 13.]])"
      ]
     },
     "execution_count": 3,
     "metadata": {},
     "output_type": "execute_result"
    }
   ],
   "source": [
    "x2 = np.array([-1.0,-2.0])\n",
    "z1 = np.array([[5.0],[10.0],[15.0]])\n",
    "x2 + z1"
   ]
  },
  {
   "cell_type": "code",
   "execution_count": 4,
   "metadata": {
    "scrolled": true
   },
   "outputs": [
    {
     "name": "stdout",
     "output_type": "stream",
     "text": [
      "[ 0  1  4  9 16 25 36 49 64 81]\n",
      "4\n",
      "[ 9 16]\n",
      "[ 0  4 16]\n",
      "[  0   1  -4   9 -16  25  36  49  64  81]\n",
      "[ 81  64  49  36  25 -16   9  -4   1   0]\n",
      "0\t1\t-4\t9\t-16\t25\t36\t49\t64\t81\t\n",
      "[[ 1  2  3  4  5]\n",
      " [ 6  7  8  9 10]\n",
      " [11 12 13 14 15]\n",
      " [16 17 18 19 20]]\n",
      "20\n",
      "[[ 2  3  4  5]\n",
      " [ 7  8  9 10]\n",
      " [12 13 14 15]]\n",
      "\n",
      "[ 6  7  8  9 10]\n",
      "\n",
      "[16 17 18 19 20]\n"
     ]
    }
   ],
   "source": [
    "# numpy indexing, slicing, iterating\n",
    "arr = np.arange(10)**2\n",
    "print(arr)\n",
    "print(arr[2])\n",
    "print(arr[3:5]) # 9 ,16\n",
    "arr[0:6:2] = -arr[0:6:2] # 0, -4(2), -16(4)\n",
    "print(arr)\n",
    "print(arr[ : : -1])\n",
    "for i in arr:\n",
    "    print(i,end='\\t')\n",
    "print()\n",
    "arr = np.arange(1,21,1).reshape(4,5)\n",
    "print(arr)\n",
    "print(arr[3,4]) # 20\n",
    "print(arr[0:3,1:]) # 0:3-> 0행부터 2행까지 3은 포함하지 않음\n",
    "print()\n",
    "print(arr[1, ]) #1행 출력\n",
    "print()\n",
    "print(arr[-1, ]) #마지막 행 출력"
   ]
  },
  {
   "cell_type": "code",
   "execution_count": 6,
   "metadata": {},
   "outputs": [
    {
     "name": "stdout",
     "output_type": "stream",
     "text": [
      "[[16 17 18 19 20]\n",
      " [11 12 13 14 15]\n",
      " [ 6  7  8  9 10]\n",
      " [ 1  2  3  4  5]]\n",
      "[[ 1  2  3  4  5]\n",
      " [ 6  7  8  9 10]\n",
      " [11 12 13 14 15]\n",
      " [16 17 18 19 20]]\n"
     ]
    }
   ],
   "source": [
    "print(arr[ : : -1])\n",
    "print(arr)"
   ]
  },
  {
   "cell_type": "code",
   "execution_count": 26,
   "metadata": {},
   "outputs": [
    {
     "name": "stdout",
     "output_type": "stream",
     "text": [
      "[0 1 2 3 4 5] [ 1.          0.54030231 -0.41614684 -0.9899925  -0.65364362  0.28366219] [  1.           2.71828183   7.3890561   20.08553692  54.59815003\n",
      " 148.4131591 ]\n",
      "[-4.60517019 -2.81341072 -2.20727491 -1.83258146 -1.56064775 -1.34707365\n",
      " -1.17118298 -1.02165125 -0.89159812 -0.77652879 -0.67334455 -0.5798185\n",
      " -0.49429632 -0.41551544 -0.34249031 -0.27443685 -0.21072103 -0.15082289\n",
      " -0.09431068 -0.04082199]\n"
     ]
    }
   ],
   "source": [
    "# numpy 일반 함수\n",
    "# np.cos(),sin(),tan(),exp()\n",
    "arr = np.arange(0, 6, 1)\n",
    "print(arr, np.cos(arr), np.exp(arr))\n",
    "\n",
    "arr = np.arange(0.01,1,0.05)\n",
    "print(np.log(arr))"
   ]
  },
  {
   "cell_type": "code",
   "execution_count": 7,
   "metadata": {
    "scrolled": true
   },
   "outputs": [
    {
     "name": "stdout",
     "output_type": "stream",
     "text": [
      "[2 5 4]\n",
      "[1 3 2]\n",
      "9\n",
      "[85 92 51 10 13]\n",
      "[[0.74699249 0.13227292 0.61624964]\n",
      " [0.44000321 0.59766424 0.89063933]]\n",
      "[[-1.0383697   1.00266702  0.62984806]\n",
      " [ 0.63332969 -1.99481195  1.29796739]]\n",
      "0 : 6\n",
      "[[0.1 0.8 0.2]\n",
      " [0.3 0.2 0.5]\n",
      " [0.9 0.5 0.3]]\n",
      "[1 2 0]\n",
      "[2 0 1]\n"
     ]
    }
   ],
   "source": [
    "arr1 = np.array([2,3,4])\n",
    "arr2 = np.array([1,5,2])\n",
    "print(np.maximum(arr1, arr2))\n",
    "print(np.minimum(arr1,arr2))\n",
    "print(np.sum(arr1))\n",
    "print(np.random.choice(100,5)) # 0~100사이의 수 중에서 5개 출력\n",
    "print(np.random.rand(2,3)) # 2행 3열의 random값 리턴\n",
    "print(np.random.randn(2,3)) # 2행 3열의 random 값 리턴 (표준 정규분포)\n",
    "\n",
    "# 위치를 반환하는 함수 argmax, argmin\n",
    "arr = np.array([6,2,3,1,4,5])\n",
    "print(np.argmax(arr),':',arr[np.argmax(arr)]) #arrgmax:가장큰값 인덱스 반환\n",
    "\n",
    "arr3 = np.array([[0.1,0.8,0.2],[0.3,0.2,0.5],[0.9,0.5,0.3]])\n",
    "print(arr3)\n",
    "print(np.argmax(arr3, axis=1)) #[0[1[2[3...]]]]<- axis 번호\n",
    "print(np.argmax(arr3, axis=0)) "
   ]
  },
  {
   "cell_type": "code",
   "execution_count": 8,
   "metadata": {
    "scrolled": false
   },
   "outputs": [
    {
     "name": "stdout",
     "output_type": "stream",
     "text": [
      "26\n",
      "3.0384615384615383\n",
      "129.1139053254438\n",
      "11.362829987527041\n",
      "23 -24 4.5\n",
      "-0.75\n",
      "4.5\n",
      "23.0\n"
     ]
    }
   ],
   "source": [
    "# 기술 통계 함수\n",
    "# count(), mean(), var(), std(), median(), max(), min(), percentile()\n",
    "arr = np.array([18,5,10,23,19,-8,10,0,0,5,2,15,8,\n",
    "               2,5,4,15,-1,4,-7,-24,7,9,-6,-23,-13])\n",
    "print(len(arr)) # arr의 갯수\n",
    "print(np.mean(arr)) # 평균\n",
    "print(np.var(arr)) # 분산\n",
    "print(np.std(arr)) #표준편차\n",
    "print(np.max(arr), np.min(arr), np.median(arr)) #최대값, 최소값, 중앙값\n",
    "print(np.percentile(arr,25)) # 1사분위의 수\n",
    "print(np.percentile(arr,50)) # 2사분위의 수\n",
    "print(np.percentile(arr,100)) # 최대 값"
   ]
  },
  {
   "cell_type": "code",
   "execution_count": 9,
   "metadata": {},
   "outputs": [
    {
     "data": {
      "text/plain": [
       "array([0.54340494, 0.27836939, 0.42451759, 0.84477613, 0.00471886])"
      ]
     },
     "execution_count": 9,
     "metadata": {},
     "output_type": "execute_result"
    }
   ],
   "source": [
    "# 난수 발생과 카운탱\n",
    "np.random.seed(100) #한번 시행하면 계속 시행해도 같은 값\n",
    "np.random.rand(5)   #np.random.seed(100)없으면 새행할때마다 값이 바뀜"
   ]
  },
  {
   "cell_type": "code",
   "execution_count": 10,
   "metadata": {},
   "outputs": [
    {
     "name": "stdout",
     "output_type": "stream",
     "text": [
      "[0 1 2 3 4 5 6 7 8 9]\n",
      "[8 4 3 0 1 6 7 9 5 2]\n"
     ]
    }
   ],
   "source": [
    "# 데이터 순서를 바꾸는 방법\n",
    "arr = np.arange(10)\n",
    "print(arr)\n",
    "np.random.shuffle(arr) # arr자료의 순서를 바꿈\n",
    "print(arr)"
   ]
  },
  {
   "cell_type": "code",
   "execution_count": 11,
   "metadata": {},
   "outputs": [
    {
     "data": {
      "text/plain": [
       "array([3, 3, 2, 3, 3, 2, 3, 3, 3, 0])"
      ]
     },
     "execution_count": 11,
     "metadata": {},
     "output_type": "execute_result"
    }
   ],
   "source": [
    "# 샘플링 : choice()\n",
    "np.random.choice(5,5, replace= False) # shuffle 과 같은 결과\n",
    "#               앞의 5 -> range(5)\n",
    "np.random.choice(10,3,replace = False) #10개중 3개만 선택 \n",
    "# replace = False -> 중복선택 불가\n",
    "np.random.choice(5,10) # 5개 숫자에서 10개 추출:중복 허용\n",
    "np.random.choice(5,10, p=[0.1,0,0.3,0.6,0]) # 선택확률을 다르게, 데이터 수만큼\n",
    "#                        [0.0,1,2.0,3.0,4]       확률 넣고 p의 합은 1이 되게\n"
   ]
  },
  {
   "cell_type": "code",
   "execution_count": 12,
   "metadata": {},
   "outputs": [
    {
     "data": {
      "text/plain": [
       "array([[16, 13, 19, 10, 14],\n",
       "       [14, 15, 17, 16, 16],\n",
       "       [12, 14, 12, 17, 11]])"
      ]
     },
     "execution_count": 12,
     "metadata": {},
     "output_type": "execute_result"
    }
   ],
   "source": [
    "# randint() 정수 난수 발생 numpy.random.randint(low, high=None, size=None)\n",
    "# =None 은 생략 가능\n",
    "# np.random.seed(0) # -> 항상 같은 데이터만 가져오게 함\n",
    "np.random.randint(10, size=10) #<- replace = True (기본)\n",
    "np.random.randint(10,20, size=10) #20은 포함 안함\n",
    "np.random.randint(10,20, size=(3,5)) #3행 5열의 array 반환"
   ]
  },
  {
   "cell_type": "code",
   "execution_count": 22,
   "metadata": {},
   "outputs": [
    {
     "name": "stdout",
     "output_type": "stream",
     "text": [
      "[ 3  6  9 12 15 18]\n",
      "[ 1  5  9 13 17]\n",
      "[9]\n"
     ]
    }
   ],
   "source": [
    "x = np.arange(20) +1\n",
    "n_list = []\n",
    "print(x [x % 3 == 0])\n",
    "print(x [x % 4 == 1])\n",
    "print(x[(x % 3 == 0) & (x % 4 == 1)])# 3의 배수이면서 4로 나누면 나머지 1인수"
   ]
  }
 ],
 "metadata": {
  "kernelspec": {
   "display_name": "Python 3",
   "language": "python",
   "name": "python3"
  },
  "language_info": {
   "codemirror_mode": {
    "name": "ipython",
    "version": 3
   },
   "file_extension": ".py",
   "mimetype": "text/x-python",
   "name": "python",
   "nbconvert_exporter": "python",
   "pygments_lexer": "ipython3",
   "version": "3.7.6"
  }
 },
 "nbformat": 4,
 "nbformat_minor": 4
}
