{
 "cells": [
  {
   "cell_type": "code",
   "execution_count": 28,
   "metadata": {},
   "outputs": [],
   "source": [
    "# 1번 풀이\n",
    "def solution(s):\n",
    "    answer = 0\n",
    "    answer1 = s\n",
    "    if 'one' in s:\n",
    "        s = s.replace('one','1')\n",
    "    if 'two' in s:\n",
    "        s = s.replace('two','2')\n",
    "    \n",
    "    if 'three' in s:\n",
    "        s = s.replace('three','3')\n",
    "  \n",
    "    if 'four' in s:\n",
    "         s = s.replace('four','4')\n",
    "    if 'five' in s:\n",
    "         s = s.replace('five','5')\n",
    "    if 'six' in s:\n",
    "         s = s.replace('six','6')\n",
    "    if 'seven' in s:\n",
    "         s = s.replace('seven','7')\n",
    "    if 'eight' in s:\n",
    "         s = s.replace('eight','8')\n",
    "    if 'nine' in s:\n",
    "         s = s.replace('nine','9')\n",
    "    if 'zero' in s:\n",
    "         s = s.replace('two','0')\n",
    "    answer = s\n",
    "    return answer    "
   ]
  },
  {
   "cell_type": "code",
   "execution_count": 30,
   "metadata": {},
   "outputs": [
    {
     "name": "stdout",
     "output_type": "stream",
     "text": [
      "123\n"
     ]
    },
    {
     "data": {
      "text/plain": [
       "'123'"
      ]
     },
     "execution_count": 30,
     "metadata": {},
     "output_type": "execute_result"
    }
   ],
   "source": [
    "# s = 'one4seveneight'\n",
    "# s = '23four5six7'\n",
    "# s = \"2three45sixseven\"\n",
    "s = \"123\"\n",
    "solution(s)"
   ]
  },
  {
   "cell_type": "code",
   "execution_count": null,
   "metadata": {},
   "outputs": [],
   "source": [
    "\n",
    "# \"one4seveneight\"\t1478\n",
    "# \"23four5six7\"\t234567\n",
    "# \"2three45sixseven\"\t234567\n",
    "# \"123\"\t123\n",
    "\n",
    "# 1 ≤ s의 길이 ≤ 50\n",
    "# s가 \"zero\" 또는 \"0\"으로 시작하는 경우는 주어지지 않습니다.\n",
    "# return 값이 1 이상 2,000,000,000 이하의 정수가 되는 올바른 \n",
    "#  입력만 s로 주어집니다."
   ]
  },
  {
   "cell_type": "code",
   "execution_count": null,
   "metadata": {},
   "outputs": [],
   "source": [
    "# 1번 줄이기!!"
   ]
  },
  {
   "cell_type": "code",
   "execution_count": 1,
   "metadata": {},
   "outputs": [],
   "source": [
    "def solution(s):\n",
    "    answer = 0\n",
    "    key = {'one':'1', 'two':'2', 'three':'3', 'four':'4','five':'5','six':'6',\n",
    "        'seven':'7', 'eight':'8', 'nine':'9', 'zero':'0'}\n",
    "    for i in key:\n",
    "        if i in s:\n",
    "            s = s.replace(i,key[i])\n",
    "        else:\n",
    "            continue\n",
    "    answer = int(s)\n",
    "    return answer"
   ]
  },
  {
   "cell_type": "code",
   "execution_count": 3,
   "metadata": {},
   "outputs": [
    {
     "name": "stdout",
     "output_type": "stream",
     "text": [
      "23four5six7\n"
     ]
    },
    {
     "data": {
      "text/plain": [
       "234567"
      ]
     },
     "execution_count": 3,
     "metadata": {},
     "output_type": "execute_result"
    }
   ],
   "source": [
    "# s = 'one4seveneight'\n",
    "# s = '23four5six7'\n",
    "# s = \"2three45sixseven\"\n",
    "# s = \"123\"\n",
    "s = input()\n",
    "solution(s)"
   ]
  },
  {
   "cell_type": "code",
   "execution_count": null,
   "metadata": {},
   "outputs": [],
   "source": []
  }
 ],
 "metadata": {
  "kernelspec": {
   "display_name": "Python 3",
   "language": "python",
   "name": "python3"
  },
  "language_info": {
   "codemirror_mode": {
    "name": "ipython",
    "version": 3
   },
   "file_extension": ".py",
   "mimetype": "text/x-python",
   "name": "python",
   "nbconvert_exporter": "python",
   "pygments_lexer": "ipython3",
   "version": "3.7.6"
  }
 },
 "nbformat": 4,
 "nbformat_minor": 4
}
