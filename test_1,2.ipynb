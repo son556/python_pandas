{
 "cells": [
  {
   "cell_type": "markdown",
   "metadata": {},
   "source": [
    "# 민우는 자신이 구매했던 로또로 당첨이 가능했던 최고 순위와\n",
    "# 최저 순위를 알아보고 싶어 졌습니다.\n",
    "# 민우가 구매한 로또 번호를 담은 배열 lottos, 당첨 번호를 담은 배열 \n",
    "# win_nums가 매개변수로 주어집니다. 이때, 당첨 가능한 최고 순위와 \n",
    "# 최저 순위를 차례대로 배열에 담아서 return 하도록 solution 함수를 완성해주세요"
   ]
  },
  {
   "cell_type": "code",
   "execution_count": null,
   "metadata": {},
   "outputs": [],
   "source": [
    "def solution(lottos, win_nums):\n",
    "    answer = [0,0]\n",
    "    count = 0\n",
    "    count1 = 0\n",
    "    for i in range(6):\n",
    "        if win_nums[i] in lottos:\n",
    "            count+=1\n",
    "        if lottos[i] == 0:\n",
    "            count1+=1\n",
    "    if count >= 2:\n",
    "        answer[1] = 6 - (count-1)\n",
    "    else:\n",
    "        answer[1] = 6\n",
    "    if count1 == 0:\n",
    "        if count > 1:\n",
    "            answer[0] = 6 - (count-1)\n",
    "        else:\n",
    "            answer[0] = 6\n",
    "    if count1 == 1:\n",
    "        if 1<= count <= 5:\n",
    "            answer[0] = answer[1] -1\n",
    "        elif count==0:\n",
    "            answer[0] = 6\n",
    "        else:\n",
    "            answer[0] = 1\n",
    "    if count1 == 2:\n",
    "        if 1 <= count <= 4:\n",
    "            answer[0] = answer[1]-2\n",
    "        elif count == 0:\n",
    "            answer[0] = 5\n",
    "        else:\n",
    "            answer[0] = 1\n",
    "    if count1 == 3:\n",
    "        if 1<= count <= 3:\n",
    "            answer[0] = answer[1]-3\n",
    "        elif count == 0:\n",
    "            answer[0] = 4\n",
    "        else:\n",
    "            answer[0] = 1\n",
    "    if count1 == 4:\n",
    "        if 1<= count <=2:\n",
    "            answer[0] = answer[1] - 4\n",
    "        elif count == 0:\n",
    "            answer[0] = 3\n",
    "        else:\n",
    "            answer[0] = 1\n",
    "    if count1 == 5:\n",
    "        if count == 0:\n",
    "            answer[0] = 2\n",
    "        else:\n",
    "            answer[0] = 1\n",
    "    if count1 == 6:\n",
    "        answer[0] = 1\n",
    "    return answer, count, count1"
   ]
  },
  {
   "cell_type": "code",
   "execution_count": null,
   "metadata": {},
   "outputs": [],
   "source": [
    "win_nums = [31,10,45,1,6,19]\n",
    "lottos = [21,10,0,0,1,6]\n",
    "print(solution(lottos, win_nums))"
   ]
  },
  {
   "cell_type": "code",
   "execution_count": null,
   "metadata": {},
   "outputs": [],
   "source": [
    "def solution1(lottos, win_nums):\n",
    "\n",
    "    rank=[6,6,5,4,3,2,1]\n",
    "\n",
    "    cnt_0 = lottos.count(0)\n",
    "    ans = 0\n",
    "    for x in win_nums:\n",
    "        if x in lottos:\n",
    "            ans += 1\n",
    "    a = rank[cnt_0 + ans]\n",
    "    b = rank[ans]\n",
    "    return a, b"
   ]
  },
  {
   "cell_type": "code",
   "execution_count": null,
   "metadata": {},
   "outputs": [],
   "source": [
    "win_nums = [31,10,45,1,6,19]\n",
    "lottos = [21,10,0,0,1,6]\n",
    "print(solution1(lottos, win_nums))"
   ]
  },
  {
   "cell_type": "code",
   "execution_count": null,
   "metadata": {},
   "outputs": [],
   "source": [
    "print(a)\n",
    "print(b)"
   ]
  },
  {
   "cell_type": "markdown",
   "metadata": {},
   "source": [
    "# 아이디의 길이는 3자 이상 15자 이하여야 합니다.\n",
    "# 아이디는 알파벳 소문자, 숫자, 빼기(-), 밑줄(_),\n",
    "# 마침표(.) 문자만 사용할 수 있습니다.\n",
    "# 단, 마침표(.)는 처음과 끝에 사용할 수 없으며\n",
    "# 또한 연속으로 사용할 수 없습니다.\n",
    "- 1단계 new_id의 모든 대문자를 대응되는 소문자로 치환합니다.\n",
    "- 2단계 new_id에서 알파벳 소문자, 숫자, 빼기(-), 밑줄(_), 마침표(.)를 제외한 모든 문자를 제거합니다.\n",
    "- 3단계 new_id에서 마침표(.)가 2번 이상 연속된 부분을 하나의 마침표(.)로 치환합니다.\n",
    "- 4단계 new_id에서 마침표(.)가 처음이나 끝에 위치한다면 제거합니다.\n",
    "- 5단계 new_id가 빈 문자열이라면, new_id에 \"a\"를 대입합니다.\n",
    "- 6단계 new_id의 길이가 16자 이상이면, new_id의 첫 15개의 문자를 제외한 나머지 문자들을 모두 제거합니다.\n",
    "- 만약 제거 후 마침표(.)가 new_id의 끝에 위치한다면 끝에 위치한 마침표(.) 문자를 제거합니다.\n",
    "- 7단계 new_id의 길이가 2자 이하라면, new_id의 마지막 문자를 new_id의 길이가 3이 될 때까지 반복해서 끝에 붙입니다."
   ]
  },
  {
   "cell_type": "code",
   "execution_count": 147,
   "metadata": {},
   "outputs": [],
   "source": [
    "# for i in list 일때 for문 안에서 list를 수정하는 행위 좋지않다.\n",
    "\n",
    "def solution(new_id):\n",
    "    answer = ''\n",
    "    alphabet = 'abcdefghijklnmopqrstuvwxyz'\n",
    "    number = '1234567890'\n",
    "    char = '-_.'\n",
    "    name_list = []\n",
    "    new = new_id.lower() \n",
    "    for i in range(len(new)):\n",
    "        if  (new[i] in alphabet or new[i] in number or\\\n",
    "                new[i] in char):\n",
    "            answer += new[i]\n",
    "        else:\n",
    "            continue\n",
    "  \n",
    "    if len(answer) > 1:\n",
    "        for idx, value in enumerate(answer): #3\n",
    "            if idx < len(answer)-1  :\n",
    "                if answer[idx] == '.' and answer[idx + 1] == '.':\n",
    "                    continue\n",
    "                else:\n",
    "                    name_list.append(value)\n",
    "    \n",
    "    name_list.append(answer[-1])\n",
    "    \n",
    "    if name_list[0] == '.':  #4\n",
    "        del name_list[0]\n",
    "       \n",
    "    if name_list == []: #5\n",
    "        name_list.append('a')\n",
    "        \n",
    "    if name_list[-1] == '.':#4\n",
    "        del name_list[-1]\n",
    "        \n",
    "    if len(name_list) >= 16: #6\n",
    "        del name_list[15:] # 시작 인덱스 이후 부터 삭제    \n",
    "    \n",
    "    if len(name_list) < 3: #7\n",
    "        while len(name_list) < 3:\n",
    "            k = name_list[-1]\n",
    "            name_list.append(k)\n",
    "    \n",
    "    if name_list[-1] =='.':\n",
    "        del name_list[-1]\n",
    "    \n",
    "    \n",
    "    answer = ''\n",
    "    for i in name_list:\n",
    "        answer += i\n",
    "    return answer"
   ]
  },
  {
   "cell_type": "code",
   "execution_count": 152,
   "metadata": {},
   "outputs": [
    {
     "name": "stdout",
     "output_type": "stream",
     "text": [
      "아이디를 입력하시오>abcdefghijklmn.p\n",
      "1: ['a', 'b', 'c', 'd', 'e', 'f', 'g', 'h', 'i', 'j', 'k', 'l', 'm', 'n', '.']\n",
      "abcdefghijklmn\n"
     ]
    }
   ],
   "source": [
    "new_id = input('아이디를 입력하시오>')\n",
    "print(solution(new_id))"
   ]
  },
  {
   "cell_type": "code",
   "execution_count": 97,
   "metadata": {},
   "outputs": [
    {
     "name": "stdout",
     "output_type": "stream",
     "text": [
      "abcdefghijklmn.p\n",
      "a: abcdefghijklmn.p ['a', 'b', 'c', 'd', 'e', 'f', 'g', 'h', 'i', 'j', 'k', 'l', 'm', 'n']\n"
     ]
    }
   ],
   "source": [
    "# 질문 -> @와*이 안 걸러지는 이유??\n",
    "# new_id = '...!@BaT#*..y.abcdefghijklm' #[bat.y.abcdefghi]\n",
    "# new_id = 'z-+.^.' #[z--]\n",
    "# new_id = '123_.def' #[123_.def]\n",
    "new_id = 'abcdefghijklmn.p' #[abcdefghijklmn]\n",
    "# new_id = '=.=' #[aaa]\n",
    "alphabet = 'abcdefghijklnmopqrstuvwxyz'\n",
    "number = '1234567890'\n",
    "char = '-_.'\n",
    "ideal2 = []\n",
    "a = ''\n",
    "new = new_id.lower() \n",
    "name_list = []\n",
    "for i in range(len(new)):\n",
    "    if  (new[i] in alphabet or new[i] in number or\\\n",
    "            new[i] in char):\n",
    "        a += new[i]\n",
    "    else:\n",
    "        continue\n",
    "print(a)\n",
    "if len(a) > 1:\n",
    "        for idx, value in enumerate(a):\n",
    "            if idx < len(a)-1  :\n",
    "                if a[idx] == '.' and a[idx + 1] == '.':\n",
    "                    continue\n",
    "                else:\n",
    "                    name_list.append(value)\n",
    "                    \n",
    "name_list.append(a[-1])\n",
    "del name_list[14:]\n",
    "print('a:',a,name_list,  )"
   ]
  },
  {
   "cell_type": "code",
   "execution_count": 111,
   "metadata": {},
   "outputs": [
    {
     "name": "stdout",
     "output_type": "stream",
     "text": [
      "['a', 'b', 'c', 'd', 'e', 'f', 'g', 'h', 'i', 'j', 'k', 'l', 'm', 'n', '.']\n"
     ]
    },
    {
     "data": {
      "text/plain": [
       "'.'"
      ]
     },
     "execution_count": 111,
     "metadata": {},
     "output_type": "execute_result"
    }
   ],
   "source": [
    "z = 'abcdefghijklmn.p'\n",
    "n = []\n",
    "for i in z:\n",
    "    n.append(i)\n",
    "del n[15:]\n",
    "print(n)\n",
    "n[14]"
   ]
  },
  {
   "cell_type": "code",
   "execution_count": null,
   "metadata": {},
   "outputs": [],
   "source": [
    "for i in ideal:\n",
    "    if not i in char:"
   ]
  },
  {
   "cell_type": "code",
   "execution_count": null,
   "metadata": {},
   "outputs": [],
   "source": [
    "ideal_1 = ['.','.','a','.']\n",
    "del ideal_1[1:2]\n",
    "print(ideal_1)"
   ]
  },
  {
   "cell_type": "code",
   "execution_count": null,
   "metadata": {},
   "outputs": [],
   "source": [
    "ideal2 = []\n",
    "if ideal2 == []:\n",
    "    ideal2.append('a')\n",
    "ideal2"
   ]
  }
 ],
 "metadata": {
  "kernelspec": {
   "display_name": "Python 3",
   "language": "python",
   "name": "python3"
  },
  "language_info": {
   "codemirror_mode": {
    "name": "ipython",
    "version": 3
   },
   "file_extension": ".py",
   "mimetype": "text/x-python",
   "name": "python",
   "nbconvert_exporter": "python",
   "pygments_lexer": "ipython3",
   "version": "3.7.6"
  }
 },
 "nbformat": 4,
 "nbformat_minor": 4
}
